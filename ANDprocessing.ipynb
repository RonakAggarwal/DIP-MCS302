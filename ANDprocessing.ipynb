from PIL import Image
import math
img=Image.open("lighthouse.jpg").convert('LA')
pixels=img.load();
print(img.width,img.height)
grid=[[0 for i in range(img.height)] for j in range(img.width)]
for x in range(img.width):
    for y in range(img.height):
        if x<200 or y<200:
            grid[x][y]=255;
        currentpixel=img.getpixel((x,y))
        pixels[x,y]=currentpixel[0] & grid[x][y] 
img.show()
        
