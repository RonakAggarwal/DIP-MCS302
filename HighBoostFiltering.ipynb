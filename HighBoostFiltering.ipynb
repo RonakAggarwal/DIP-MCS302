from PIL import Image,ImageFilter
img=Image.open("lighthouse.jpg").convert('LA')
blurred_image=img.filter(ImageFilter.BLUR);
pixels=img.load()
A=int(input("Enter the value of A (>1)"))
for x in range(img.width):
    for y in range(img.height):
        imgpixel=img.getpixel((x,y))
        blurredImagepixel=blurred_image.getpixel((x,y))
        pixels[x,y]=A*imgpixel[0]-blurredImagepixel[0]
img.show()
