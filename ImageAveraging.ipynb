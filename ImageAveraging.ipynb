from PIL import Image
img1=Image.open("noisyImg1.jpg").convert('LA')
img2=Image.open("noisyImg2.jpg").convert('LA')
img3=Image.open("noisyImg3.jpg").convert('LA')
img4=Image.open("noisyImg4.jpg").convert('LA')
img5=Image.open("noisyImg5.jpg").convert('LA')
pixels=img1.load();
for x in range(img.width):
    for y in range(img.height):
        currentpixel1=img1.getpixel((x,y))
        currentpixel2=img2.getpixel((x,y))
        currentpixel3=img3.getpixel((x,y))
        currentpixel4=img4.getpixel((x,y))
        currentpixel5=img5.getpixel((x,y))
        sum=currentpixel1[0]+currentpixel2[0]+currentpixel3[0]+currentpixel4[0]+currentpixel5[0];
        pixels[x,y]=int(sum/5)
img1.show()
        

