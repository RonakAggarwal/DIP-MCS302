from PIL import Image
import numpy as np
img=Image.open("lighthouse.jpg").convert('LA')

pixels=img.load();
grid=[[0 for x in range(img.height)] for y in range(img.width)]
for x in range(img.width):
    for y in range(img.height):
        currentpixel=img.getpixel((x,y))
        grid[x][y]=currentpixel[0]
grid.append([0 for x in range(img.width)])
grid.insert(0,[0 for x in range(img.width)])
for i in range(img.height+2):
    grid[i].append(0)
    grid[i].insert(0,0)

def UnsharpMasking(x,y,grid):
    val=0
    for i in range(x-1,x+2):
        for j in range(y-1,y+2):
            val=val+grid[i][j];
    return int(val/9)

for x in range(1,img.width):
    for y in range(1,img.height-1):
        pixels[x,y]=UnsharpMasking(x,y,grid) 
img.show()
        
    
