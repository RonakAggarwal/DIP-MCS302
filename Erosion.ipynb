from PIL import Image

transition_element=[0,0,0]
img=Image.open("lighthouse.jpg").convert('1')
pixels=img.load()
for x in range(img.width):
    for y in range(img.height):
        currentpixel=img.getpixel((x,y))
        if currentpixel not in transition_element:
            pixels[x,y]=0;
        else:
            pixels[x,y]=255;
img.show()
