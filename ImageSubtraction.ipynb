from PIL import Image
import math
img1=Image.open("lighthouse.jpg").convert('LA')
img2=Image.open("street.jpg").convert('LA')
pixels=img1.load()
for x in range(img2.width):
    for y in range(img2.height):
        currentpixel1=img1.getpixel((x,y))
        currentpixel2=img2.getpixel((x,y))
        pixels[x,y]=abs(currentpixel1[0]-currentpixel2[0])
img1.show()
